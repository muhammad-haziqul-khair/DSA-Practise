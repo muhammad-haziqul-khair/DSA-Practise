{
 "cells": [
  {
   "cell_type": "code",
   "execution_count": 1,
   "id": "db0bbf52-2c83-43ec-8ffa-ae61aae41758",
   "metadata": {},
   "outputs": [],
   "source": [
    "import ctypes"
   ]
  },
  {
   "cell_type": "code",
   "execution_count": 195,
   "id": "542f97d5-1639-4944-997e-4de93f3b443a",
   "metadata": {},
   "outputs": [],
   "source": [
    "class Meralist:\n",
    "    def __init__(self):\n",
    "        self.size = 1\n",
    "        self.n = 0\n",
    "        self.A = self.__make_array(self.size)\n",
    "\n",
    "    def __make_array(self,capacity):\n",
    "        return (capacity*ctypes.py_object)()\n",
    "\n",
    "    def __len__(self):\n",
    "        return self.n\n",
    "\n",
    "    def append(self,item):\n",
    "        if self.n == self.size:\n",
    "            self.__resize(self.size*2)\n",
    "        self.A[self.n] = item\n",
    "        self.n += 1\n",
    "\n",
    "    def __resize(self,new_capacity):\n",
    "        B = self.__make_array(new_capacity)\n",
    "        self.size = new_capacity\n",
    "\n",
    "        for i in range(self.n):\n",
    "            B[i] = self.A[i]\n",
    "        self.A = B\n",
    "\n",
    "    def __str__(self):\n",
    "        result = ''\n",
    "        for i in range(self.n):\n",
    "            result = result + str(self.A[i]) + ','\n",
    "        return '[' + result[:-1] + ']'\n",
    "\n",
    "    def __getitem__(self,index):\n",
    "        if index >= 0 and index < self.n:\n",
    "            return self.A[index]\n",
    "        else:\n",
    "            return \"Index Error- Index out of range!\"\n",
    "\n",
    "    def pop(self):\n",
    "        if self.n == 0:\n",
    "            return \"Empty List\"\n",
    "\n",
    "        print(self.A[self.n-1])\n",
    "        self.n -= 1\n",
    "\n",
    "    def clear(self):\n",
    "        self.n = 0\n",
    "        self.size = 1\n",
    "\n",
    "    def find(self,item):\n",
    "        for i in range(self.n):\n",
    "            if self.A[i] == item:\n",
    "                return i\n",
    "        return \"Item not in the List\"\n",
    "\n",
    "\n",
    "    def insert(self,pos,item):\n",
    "        if self.n == self.size:\n",
    "            self.__resize(self.size*2)\n",
    "        for i in range(self.n,pos,-1):\n",
    "            self.A[i] = self.A[i-1]\n",
    "\n",
    "        self.A[pos] = item\n",
    "        self.n += 1\n",
    "\n",
    "    def __delitem__(self,pos):\n",
    "        if pos >= 0 and pos < self.n:\n",
    "            for i in range(pos,self.n-1):\n",
    "                self.A[i] = self.A[i+1]\n",
    "            self.n -= 1\n",
    "            \n",
    "        return 'Invalid Index'\n",
    "\n",
    "    def remove(self,item):\n",
    "        pos = self.find(item)\n",
    "        if type(pos) == int:\n",
    "            self.__delitem__(pos)\n",
    "        else:\n",
    "            return pos\n",
    "\n",
    "    def max(self):\n",
    "        if self.n > 0:\n",
    "            maximum = self.A[0]\n",
    "            for i in range(1,self.n):\n",
    "                if self.A[i] > maximum:\n",
    "                    maximum = self.A[i]\n",
    "            return maximum\n",
    "        return \"Empty List\"\n",
    "\n",
    "    def min(self):\n",
    "        if self.n > 0:\n",
    "            minimum = self.A[0]\n",
    "            for i in range(1,self.n):\n",
    "                if self.A[i] < minimum:\n",
    "                    minimum = self.A[i]\n",
    "            return minimum\n",
    "        return \"Empty List\"\n",
    "\n",
    "    def sum(self):\n",
    "        sum = 0\n",
    "        if self.n > 0:\n",
    "            for i in range(self.n):\n",
    "                sum += self.A[i]\n",
    "            return sum\n",
    "        return sum"
   ]
  },
  {
   "cell_type": "code",
   "execution_count": 196,
   "id": "0fe3b461-8afc-4233-9ab6-ff7f566e628e",
   "metadata": {},
   "outputs": [],
   "source": [
    "L = Meralist()"
   ]
  },
  {
   "cell_type": "code",
   "execution_count": 156,
   "id": "f473aa0f-c1c7-4a93-ad25-175317d4bf1e",
   "metadata": {},
   "outputs": [
    {
     "data": {
      "text/plain": [
       "4"
      ]
     },
     "execution_count": 156,
     "metadata": {},
     "output_type": "execute_result"
    }
   ],
   "source": [
    "len(L)"
   ]
  },
  {
   "cell_type": "code",
   "execution_count": 198,
   "id": "e52f1d90-deca-4d4f-a35a-95dba0abd5f3",
   "metadata": {},
   "outputs": [],
   "source": [
    "L.append(94)\n",
    "L.append(42)\n",
    "L.append(13)\n",
    "# L.append(\"Haziq\")"
   ]
  },
  {
   "cell_type": "code",
   "execution_count": 169,
   "id": "bfd36787-25b5-49c0-9579-4878951f4e00",
   "metadata": {},
   "outputs": [
    {
     "name": "stdout",
     "output_type": "stream",
     "text": [
      "[1,2,3,Haziq]\n"
     ]
    }
   ],
   "source": [
    "print(L)"
   ]
  },
  {
   "cell_type": "code",
   "execution_count": 96,
   "id": "f40d5dfa-9a83-408c-9c7d-c4f1260aa5e7",
   "metadata": {},
   "outputs": [
    {
     "name": "stdout",
     "output_type": "stream",
     "text": [
      "Haziq\n"
     ]
    }
   ],
   "source": [
    "print(L[3])"
   ]
  },
  {
   "cell_type": "code",
   "execution_count": 104,
   "id": "da7decd4-2821-4e66-9902-6ef1620030de",
   "metadata": {},
   "outputs": [
    {
     "name": "stdout",
     "output_type": "stream",
     "text": [
      "Haziq\n"
     ]
    }
   ],
   "source": [
    "L.pop()"
   ]
  },
  {
   "cell_type": "code",
   "execution_count": 97,
   "id": "12e7f85a-e5c3-446b-9757-63b0a1e80dfd",
   "metadata": {},
   "outputs": [
    {
     "data": {
      "text/plain": [
       "2"
      ]
     },
     "execution_count": 97,
     "metadata": {},
     "output_type": "execute_result"
    }
   ],
   "source": [
    "L.find(3)"
   ]
  },
  {
   "cell_type": "code",
   "execution_count": 180,
   "id": "b261ac6e-473d-40e7-aeaf-b38df3a298b2",
   "metadata": {},
   "outputs": [],
   "source": [
    "L.clear()"
   ]
  },
  {
   "cell_type": "code",
   "execution_count": 102,
   "id": "2dab9fbb-5166-4624-9504-81c2dfc4db51",
   "metadata": {},
   "outputs": [],
   "source": [
    "L.insert(5,\"Malik\")"
   ]
  },
  {
   "cell_type": "code",
   "execution_count": 149,
   "id": "9719aebd-e976-417e-996c-96a95e13ab1d",
   "metadata": {},
   "outputs": [],
   "source": [
    "del L[1000]"
   ]
  },
  {
   "cell_type": "code",
   "execution_count": 183,
   "id": "cd86ac49-7669-47e3-af71-4e8857451db2",
   "metadata": {},
   "outputs": [
    {
     "name": "stdout",
     "output_type": "stream",
     "text": [
      "[1,2,3,94,42,13]\n"
     ]
    }
   ],
   "source": [
    "print(L)"
   ]
  },
  {
   "cell_type": "code",
   "execution_count": 160,
   "id": "7e234d53-0905-410c-b70c-732b5490c369",
   "metadata": {},
   "outputs": [
    {
     "data": {
      "text/plain": [
       "'Item not in the List'"
      ]
     },
     "execution_count": 160,
     "metadata": {},
     "output_type": "execute_result"
    }
   ],
   "source": [
    "L.remove(3)"
   ]
  },
  {
   "cell_type": "code",
   "execution_count": 193,
   "id": "e5a44024-f45a-4cbb-9ee2-d3d067802e62",
   "metadata": {},
   "outputs": [
    {
     "data": {
      "text/plain": [
       "94"
      ]
     },
     "execution_count": 193,
     "metadata": {},
     "output_type": "execute_result"
    }
   ],
   "source": [
    "L.max()"
   ]
  },
  {
   "cell_type": "code",
   "execution_count": 194,
   "id": "c7fb456d-9eeb-454b-9250-53b4ba1a3e0b",
   "metadata": {},
   "outputs": [
    {
     "data": {
      "text/plain": [
       "13"
      ]
     },
     "execution_count": 194,
     "metadata": {},
     "output_type": "execute_result"
    }
   ],
   "source": [
    "L.min()"
   ]
  },
  {
   "cell_type": "code",
   "execution_count": 199,
   "id": "1da0ba00-b06b-44ce-90fe-947a52ffc94d",
   "metadata": {},
   "outputs": [
    {
     "data": {
      "text/plain": [
       "149"
      ]
     },
     "execution_count": 199,
     "metadata": {},
     "output_type": "execute_result"
    }
   ],
   "source": [
    "L.sum()"
   ]
  },
  {
   "cell_type": "code",
   "execution_count": null,
   "id": "47f66fe2-6995-4505-a6f2-1941fe54ddd6",
   "metadata": {},
   "outputs": [],
   "source": []
  }
 ],
 "metadata": {
  "kernelspec": {
   "display_name": "Python 3 (ipykernel)",
   "language": "python",
   "name": "python3"
  },
  "language_info": {
   "codemirror_mode": {
    "name": "ipython",
    "version": 3
   },
   "file_extension": ".py",
   "mimetype": "text/x-python",
   "name": "python",
   "nbconvert_exporter": "python",
   "pygments_lexer": "ipython3",
   "version": "3.12.3"
  }
 },
 "nbformat": 4,
 "nbformat_minor": 5
}
