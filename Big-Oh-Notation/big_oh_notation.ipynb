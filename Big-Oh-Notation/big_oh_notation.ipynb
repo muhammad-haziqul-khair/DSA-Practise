{
 "cells": [
  {
   "cell_type": "markdown",
   "id": "7b20db97-ea9e-4bd6-bcc4-68e1afb72673",
   "metadata": {},
   "source": [
    "Practise Question for Time Complexity"
   ]
  },
  {
   "cell_type": "markdown",
   "id": "56f2a7be-daa0-4172-be2b-a6c0c5dd4b35",
   "metadata": {},
   "source": [
    "1."
   ]
  },
  {
   "cell_type": "code",
   "execution_count": 1,
   "id": "12ea24da-3d74-44e5-b145-7e86acbaaf5b",
   "metadata": {},
   "outputs": [
    {
     "name": "stdout",
     "output_type": "stream",
     "text": [
      "15\n",
      "120\n"
     ]
    }
   ],
   "source": [
    "L = [1,2,3,4,5]\n",
    "sum = 0\n",
    "for i in L:\n",
    "    sum += i\n",
    "print(sum)\n",
    "\n",
    "product = 1\n",
    "for i in L:\n",
    "    product *= i\n",
    "print(product)"
   ]
  },
  {
   "cell_type": "markdown",
   "id": "a521c7d8-1572-4865-8bbc-2f8b616db37b",
   "metadata": {},
   "source": [
    "2."
   ]
  },
  {
   "cell_type": "code",
   "execution_count": 4,
   "id": "4c64c069-5bc4-4d06-bf57-c24274435a86",
   "metadata": {},
   "outputs": [
    {
     "name": "stdout",
     "output_type": "stream",
     "text": [
      "(1,1)\n",
      "(1,2)\n",
      "(1,3)\n",
      "(1,4)\n",
      "(1,5)\n",
      "(2,1)\n",
      "(2,2)\n",
      "(2,3)\n",
      "(2,4)\n",
      "(2,5)\n",
      "(3,1)\n",
      "(3,2)\n",
      "(3,3)\n",
      "(3,4)\n",
      "(3,5)\n",
      "(4,1)\n",
      "(4,2)\n",
      "(4,3)\n",
      "(4,4)\n",
      "(4,5)\n",
      "(5,1)\n",
      "(5,2)\n",
      "(5,3)\n",
      "(5,4)\n",
      "(5,5)\n"
     ]
    }
   ],
   "source": [
    "L = [1,2,3,4,5]\n",
    "for i in L:\n",
    "    for j in L:\n",
    "        # print('({},{})'.format(i,j))\n",
    "        print(f'({i},{j})')"
   ]
  },
  {
   "cell_type": "code",
   "execution_count": null,
   "id": "31a861d7-47a6-417d-a0db-bc06f2fdb25e",
   "metadata": {},
   "outputs": [],
   "source": []
  }
 ],
 "metadata": {
  "kernelspec": {
   "display_name": "Python 3 (ipykernel)",
   "language": "python",
   "name": "python3"
  },
  "language_info": {
   "codemirror_mode": {
    "name": "ipython",
    "version": 3
   },
   "file_extension": ".py",
   "mimetype": "text/x-python",
   "name": "python",
   "nbconvert_exporter": "python",
   "pygments_lexer": "ipython3",
   "version": "3.12.3"
  }
 },
 "nbformat": 4,
 "nbformat_minor": 5
}
