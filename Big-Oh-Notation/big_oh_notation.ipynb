{
 "cells": [
  {
   "cell_type": "markdown",
   "id": "7b20db97-ea9e-4bd6-bcc4-68e1afb72673",
   "metadata": {},
   "source": [
    "Practise Question for Time Complexity"
   ]
  },
  {
   "cell_type": "markdown",
   "id": "56f2a7be-daa0-4172-be2b-a6c0c5dd4b35",
   "metadata": {},
   "source": [
    "1."
   ]
  },
  {
   "cell_type": "code",
   "execution_count": null,
   "id": "12ea24da-3d74-44e5-b145-7e86acbaaf5b",
   "metadata": {},
   "outputs": [],
   "source": [
    "L = [1,2,3,4,5]\n",
    "sum = 0\n",
    "for i in L:\n",
    "    sum += i\n",
    "print(sum)\n",
    "\n",
    "product = 1\n",
    "for i in L:\n",
    "    product *= i\n",
    "print(product)"
   ]
  },
  {
   "cell_type": "markdown",
   "id": "a521c7d8-1572-4865-8bbc-2f8b616db37b",
   "metadata": {},
   "source": [
    "2."
   ]
  },
  {
   "cell_type": "code",
   "execution_count": null,
   "id": "4c64c069-5bc4-4d06-bf57-c24274435a86",
   "metadata": {},
   "outputs": [],
   "source": [
    "L = [1,2,3,4,5]\n",
    "for i in L:\n",
    "    for j in L:\n",
    "        # print('({},{})'.format(i,j))\n",
    "        print(f'({i},{j})')"
   ]
  },
  {
   "cell_type": "markdown",
   "id": "70d10334-2674-4fd4-8290-eb2f03717559",
   "metadata": {},
   "source": [
    "3. "
   ]
  },
  {
   "cell_type": "code",
   "execution_count": null,
   "id": "31a861d7-47a6-417d-a0db-bc06f2fdb25e",
   "metadata": {},
   "outputs": [],
   "source": [
    "def intToStr(i):\n",
    "    digits = '0123456789'\n",
    "    if i == 0:\n",
    "        return '0'\n",
    "    result = ''\n",
    "    while i > 0:\n",
    "        result = (digits[i%10]) + result\n",
    "        i = i//10\n",
    "    return result\n",
    "intToStr(123)"
   ]
  },
  {
   "cell_type": "markdown",
   "id": "6997a17e-ea6b-4664-9003-38c538a35fa1",
   "metadata": {},
   "source": [
    "4."
   ]
  },
  {
   "cell_type": "code",
   "execution_count": null,
   "id": "2883e207-a046-4bb8-a169-d981a76a5825",
   "metadata": {},
   "outputs": [],
   "source": [
    "n = 1000\n",
    "k = 0\n",
    "for i in range(n//2, n + 1):\n",
    "    j = 2\n",
    "    while j <= n:\n",
    "        k = k + n//2\n",
    "        j = j * 2\n",
    "    print(j)k"
   ]
  },
  {
   "cell_type": "markdown",
   "id": "b745565a-5331-4c4b-bc71-fd51fe976060",
   "metadata": {},
   "source": [
    "5."
   ]
  },
  {
   "cell_type": "code",
   "execution_count": null,
   "id": "093b4bfe-86c1-48cb-b120-99cf4735bf77",
   "metadata": {},
   "outputs": [],
   "source": [
    "L = [1,2,3,4,5]\n",
    "for i in range(0,len(L)):\n",
    "    for j in range(i+1,len(L)):\n",
    "        print(f'({L[i]},{L[j]})')"
   ]
  },
  {
   "cell_type": "markdown",
   "id": "c283aff6-93b1-4adb-8fdf-50f207a74fb4",
   "metadata": {},
   "source": [
    "6."
   ]
  },
  {
   "cell_type": "code",
   "execution_count": null,
   "id": "6f18c5e5-f596-41c0-9c52-325a5b22c6c0",
   "metadata": {},
   "outputs": [],
   "source": [
    "A = [1,2,3,4,5]\n",
    "B = [1,2,3,4,5,6]\n",
    "for i in A:\n",
    "    for j in B:\n",
    "        if i > j:\n",
    "            print(f\"({i},{j})\")"
   ]
  },
  {
   "cell_type": "markdown",
   "id": "cee8f2c6-a09e-48a6-b44c-d83668d40376",
   "metadata": {},
   "source": [
    "7."
   ]
  },
  {
   "cell_type": "code",
   "execution_count": null,
   "id": "d36c3038-1a63-469b-be08-c1e003b17472",
   "metadata": {},
   "outputs": [],
   "source": [
    "A = [1,2,3,4,5]\n",
    "B = [1,2,3,4,5]\n",
    "for i in A:\n",
    "    for j in B:\n",
    "        for k in range(10000000000000):\n",
    "            print(f\"({i},{j})\")"
   ]
  },
  {
   "cell_type": "markdown",
   "id": "83938ae3-d208-40bb-bfa2-15cc63c9e7d5",
   "metadata": {},
   "source": [
    "8."
   ]
  },
  {
   "cell_type": "code",
   "execution_count": null,
   "id": "927502df-7a62-4c57-a561-a988702b847a",
   "metadata": {},
   "outputs": [],
   "source": [
    "L = [1,2,3,4,5]\n",
    "\n",
    "for i in range(0,len(L)//2):\n",
    "    other = len(L)-i-1\n",
    "    temp = L[i]\n",
    "    L[i] = L[other]\n",
    "    L[other] = temp\n",
    "\n",
    "print(L)"
   ]
  },
  {
   "cell_type": "markdown",
   "id": "dc73e884-2a1b-43da-8108-a39d44f27821",
   "metadata": {},
   "source": [
    "9."
   ]
  },
  {
   "cell_type": "code",
   "execution_count": null,
   "id": "e2ab6505-f76a-4c7d-b28e-7989f16a81f2",
   "metadata": {},
   "outputs": [],
   "source": [
    "def factorial(n):\n",
    "    if n == 0:\n",
    "        return 1\n",
    "    else:\n",
    "        return n*factorial(n-1)\n",
    "factorial(5)"
   ]
  },
  {
   "cell_type": "markdown",
   "id": "8e3faf46-b42d-44c7-8dfe-c2f8ea007ea2",
   "metadata": {},
   "source": [
    "10."
   ]
  },
  {
   "cell_type": "code",
   "execution_count": null,
   "id": "dfa58603-7940-4c2c-8993-3c9bd13716dc",
   "metadata": {},
   "outputs": [],
   "source": [
    "def fib(n):\n",
    "    if n==1 or n==0:\n",
    "        return 1\n",
    "    else:\n",
    "        return fib(n-1)+fib(n-2)\n",
    "\n",
    "fib(5)"
   ]
  },
  {
   "cell_type": "markdown",
   "id": "487686c6-374b-4245-9c37-29851e49d39f",
   "metadata": {},
   "source": [
    "11."
   ]
  },
  {
   "cell_type": "code",
   "execution_count": 1,
   "id": "ff3071b0-be4d-45a8-a2b2-86a6ff40d592",
   "metadata": {},
   "outputs": [
    {
     "name": "stdout",
     "output_type": "stream",
     "text": [
      "1\n",
      "2\n",
      "4\n",
      "8\n",
      "16\n",
      "32\n",
      "64\n",
      "128\n"
     ]
    },
    {
     "data": {
      "text/plain": [
       "128"
      ]
     },
     "execution_count": 1,
     "metadata": {},
     "output_type": "execute_result"
    }
   ],
   "source": [
    "def power(num):\n",
    "    if num < 1:\n",
    "        return 0\n",
    "    if num == 1:\n",
    "        print(1)\n",
    "        return 1\n",
    "    else:\n",
    "        prev = power(num//2)\n",
    "        curr = prev*2\n",
    "        print(curr)\n",
    "        return curr\n",
    "\n",
    "power(145)\n",
    "        \n",
    "    "
   ]
  },
  {
   "cell_type": "markdown",
   "id": "5ef6a3b5-e69c-4b08-a324-148bf9fbbdf7",
   "metadata": {},
   "source": [
    "12."
   ]
  },
  {
   "cell_type": "code",
   "execution_count": 4,
   "id": "6b617f80-f9b5-4828-88b3-fc0e93417d46",
   "metadata": {},
   "outputs": [
    {
     "data": {
      "text/plain": [
       "2"
      ]
     },
     "execution_count": 4,
     "metadata": {},
     "output_type": "execute_result"
    }
   ],
   "source": [
    "def mod(a,b):\n",
    "    if b<= 0:\n",
    "        return -1\n",
    "    div = a//b\n",
    "    return a-div*b\n",
    "\n",
    "mod(50,3)"
   ]
  },
  {
   "cell_type": "code",
   "execution_count": 7,
   "id": "60d7994a-e635-47a8-8ea9-14fe5e5aa31e",
   "metadata": {},
   "outputs": [
    {
     "data": {
      "text/plain": [
       "8"
      ]
     },
     "execution_count": 7,
     "metadata": {},
     "output_type": "execute_result"
    }
   ],
   "source": [
    "def sum_digits(num):\n",
    "    sum = 0\n",
    "    while num > 0:\n",
    "        sum += num%10\n",
    "        num //= 10\n",
    "    return sum\n",
    "\n",
    "sum_digits(125)"
   ]
  },
  {
   "cell_type": "code",
   "execution_count": null,
   "id": "5352eae2-1154-4f3a-89bf-631b3a0ae4b5",
   "metadata": {},
   "outputs": [],
   "source": []
  }
 ],
 "metadata": {
  "kernelspec": {
   "display_name": "Python 3 (ipykernel)",
   "language": "python",
   "name": "python3"
  },
  "language_info": {
   "codemirror_mode": {
    "name": "ipython",
    "version": 3
   },
   "file_extension": ".py",
   "mimetype": "text/x-python",
   "name": "python",
   "nbconvert_exporter": "python",
   "pygments_lexer": "ipython3",
   "version": "3.12.3"
  }
 },
 "nbformat": 4,
 "nbformat_minor": 5
}
