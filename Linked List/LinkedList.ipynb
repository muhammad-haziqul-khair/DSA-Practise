{
 "cells": [
  {
   "cell_type": "code",
   "execution_count": null,
   "id": "d35f6853-c97a-491b-af49-e36db6795cd3",
   "metadata": {},
   "outputs": [],
   "source": [
    "class Node:\n",
    "    def __init__(self, value):\n",
    "        self.data = value\n",
    "        self.next = None\n"
   ]
  },
  {
   "cell_type": "code",
   "execution_count": null,
   "id": "0637cfad-ca79-4557-bebd-fbb9a617fa04",
   "metadata": {},
   "outputs": [],
   "source": [
    "class LinkedList:\n",
    "    def __init__(self):\n",
    "        self.head = None\n",
    "        self.n = 0\n",
    "\n",
    "    def __len__(self):\n",
    "        return self.n\n",
    "\n",
    "    def __str__(self):\n",
    "\n",
    "        curr = self.head\n",
    "\n",
    "        result = ''\n",
    "        while curr is not None:\n",
    "            result = result + str(curr.data) + ' -> '\n",
    "            curr = curr.next\n",
    "\n",
    "        return result[:-4]\n",
    "\n",
    "    def insert_head(self,value):\n",
    "        new_node = Node(value)\n",
    "        new_node.next = self.head\n",
    "\n",
    "        self.head = new_node\n",
    "        \n",
    "        self.n += 1\n",
    "\n",
    "    def append(self,value):\n",
    "        new_node = Node(value)\n",
    "        if self.head is None:\n",
    "          self.head = new_node\n",
    "          self.n = self.n + 1\n",
    "          return\n",
    "            \n",
    "        curr = self.head\n",
    "\n",
    "        while curr.next is not None:\n",
    "          curr = curr.next\n",
    "    \n",
    "        curr.next = new_node\n",
    "        self.n += 1\n",
    "\n",
    "    def insert_after(self,after,value):\n",
    "        new_node = Node(value)\n",
    "        curr = self.head\n",
    "\n",
    "        while curr is not None:\n",
    "            if curr.data == after:\n",
    "                break\n",
    "            curr = curr.next\n",
    "\n",
    "        if curr is not None:\n",
    "            new_node.next = curr.next\n",
    "            curr.next = new_node\n",
    "            self.n += 1\n",
    "        else:\n",
    "            print(\"Item not Found\")\n",
    "\n",
    "    def clear(self):\n",
    "        self.head = None\n",
    "        self.n = 0\n",
    "\n",
    "    def delete_head(self):\n",
    "        if self.head is not None:\n",
    "            self.head = self.head.next\n",
    "            self.n -= 1\n",
    "        else:\n",
    "            return \"Empty Link List\"\n",
    "\n",
    "    def pop(self):\n",
    "        if self.head is None:\n",
    "            return \"Empty Linked List\"\n",
    "            \n",
    "        curr = self.head\n",
    "        if curr.next is None:\n",
    "            return self.delete_head()\n",
    "        \n",
    "        while curr.next.next is not None:\n",
    "            curr = curr.next\n",
    "        curr.next = None\n",
    "        self.n -= 1\n",
    "\n",
    "    def remove(self,value):\n",
    "        if self.head is None:\n",
    "            return \"Empty Linked List\"\n",
    "\n",
    "        if self.head.data == value:\n",
    "            return self.delete_head()\n",
    "            \n",
    "        curr = self.head\n",
    "        while curr.next is not None:\n",
    "            if curr.next.data == value:\n",
    "                break\n",
    "            curr = curr.next\n",
    "\n",
    "        if curr.next is None:\n",
    "            return \"Item Not Found\"\n",
    "        else:\n",
    "            curr.next = curr.next.next\n",
    "            self.n -= 1\n",
    "\n",
    "    def search(self,value):\n",
    "        curr = self.head\n",
    "        pos = 0\n",
    "\n",
    "        while curr is not None:\n",
    "            if curr.data == value:\n",
    "                return pos\n",
    "            curr = curr.next\n",
    "            pos += 1\n",
    "        return \"Item not Found\"\n",
    "\n",
    "    def __getitem__(self,index):\n",
    "        curr = self.head\n",
    "        pos = 0\n",
    "\n",
    "        while curr is not None:\n",
    "            if pos == index:\n",
    "                return curr.data\n",
    "            curr = curr.next\n",
    "            pos += 1\n",
    "\n",
    "        return \"Index Error\"\n",
    "        \n",
    "            "
   ]
  },
  {
   "cell_type": "code",
   "execution_count": null,
   "id": "32d8c85b-b6ca-40e5-8b6d-34ceb4b1a563",
   "metadata": {},
   "outputs": [],
   "source": [
    "L = LinkedList()"
   ]
  },
  {
   "cell_type": "code",
   "execution_count": null,
   "id": "294da51e-58a0-495b-a816-5e4961bf6581",
   "metadata": {},
   "outputs": [],
   "source": [
    "L.insert_head(4)\n",
    "L.insert_head(2)\n",
    "L.insert_head(1)\n",
    "L.insert_head(0)"
   ]
  },
  {
   "cell_type": "code",
   "execution_count": null,
   "id": "6d9b22d5-8a0b-4ad3-87fe-717e0c5960cf",
   "metadata": {},
   "outputs": [],
   "source": [
    "len(L)"
   ]
  },
  {
   "cell_type": "code",
   "execution_count": null,
   "id": "d25bdabe-78b4-42bb-a049-d943acb2f54a",
   "metadata": {},
   "outputs": [],
   "source": [
    "print(L)"
   ]
  },
  {
   "cell_type": "code",
   "execution_count": null,
   "id": "cc51d2d0-69db-4b22-87b5-8a376fc6359a",
   "metadata": {},
   "outputs": [],
   "source": [
    "L.append(6)"
   ]
  },
  {
   "cell_type": "code",
   "execution_count": null,
   "id": "d4f93a9e-590e-42ef-aa36-fdf05a5fb552",
   "metadata": {},
   "outputs": [],
   "source": [
    "L.insert_after(6,100)"
   ]
  },
  {
   "cell_type": "code",
   "execution_count": null,
   "id": "d6b33799-8049-4d04-ab2b-d6e66726a431",
   "metadata": {},
   "outputs": [],
   "source": [
    "L.clear()"
   ]
  },
  {
   "cell_type": "code",
   "execution_count": null,
   "id": "d765f6a4-9e46-4781-90bf-019928951e8c",
   "metadata": {},
   "outputs": [],
   "source": [
    "L.delete_head()"
   ]
  },
  {
   "cell_type": "code",
   "execution_count": null,
   "id": "465a8c74-81f5-4e94-bce9-5b7fd427abc0",
   "metadata": {},
   "outputs": [],
   "source": [
    "L.pop()"
   ]
  },
  {
   "cell_type": "code",
   "execution_count": null,
   "id": "e63ffe07-4cd6-4731-a3cf-c373fef41b28",
   "metadata": {},
   "outputs": [],
   "source": [
    "print(L)"
   ]
  },
  {
   "cell_type": "code",
   "execution_count": null,
   "id": "0d5274e1-003f-4763-a075-6046bd44a9ae",
   "metadata": {},
   "outputs": [],
   "source": [
    "L.remove(0)"
   ]
  },
  {
   "cell_type": "code",
   "execution_count": null,
   "id": "b254a19f-431c-417f-94d1-a17a456fcad0",
   "metadata": {},
   "outputs": [],
   "source": [
    "L.search(20)"
   ]
  }
 ],
 "metadata": {
  "kernelspec": {
   "display_name": "Python 3 (ipykernel)",
   "language": "python",
   "name": "python3"
  },
  "language_info": {
   "codemirror_mode": {
    "name": "ipython",
    "version": 3
   },
   "file_extension": ".py",
   "mimetype": "text/x-python",
   "name": "python",
   "nbconvert_exporter": "python",
   "pygments_lexer": "ipython3",
   "version": "3.12.3"
  }
 },
 "nbformat": 4,
 "nbformat_minor": 5
}
